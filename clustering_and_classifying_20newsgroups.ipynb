{
 "cells": [
  {
   "cell_type": "code",
   "execution_count": 1,
   "metadata": {
    "collapsed": true
   },
   "outputs": [],
   "source": [
    "%matplotlib inline\n",
    "import numpy as np\n",
    "from matplotlib.pyplot import *\n",
    "from sklearn.datasets import fetch_20newsgroups\n",
    "from sklearn.feature_extraction.text import TfidfVectorizer, HashingVectorizer, TfidfTransformer\n",
    "from sklearn.decomposition import TruncatedSVD\n",
    "from sklearn.preprocessing import Normalizer, StandardScaler, MinMaxScaler\n",
    "from sklearn.pipeline import make_pipeline\n",
    "from sklearn.cross_validation import train_test_split"
   ]
  },
  {
   "cell_type": "code",
   "execution_count": 2,
   "metadata": {
    "collapsed": false
   },
   "outputs": [],
   "source": [
    "n_samples = None\n",
    "max_features = 10000\n",
    "n_components = 200 #32\n",
    "\n",
    "corpus = fetch_20newsgroups(subset=\"all\")\n",
    "pipeline = make_pipeline(\n",
    "    TfidfVectorizer(max_features=max_features, norm=None),\n",
    "    Normalizer(),\n",
    "    StandardScaler(copy=False, with_mean=False),\n",
    "    Normalizer(),\n",
    "    TruncatedSVD(n_components=n_components),\n",
    "    Normalizer()\n",
    ")\n",
    "\n",
    "X_all = pipeline.fit_transform(corpus.data[:n_samples])\n",
    "y_all = np.array(corpus.target[:n_samples])\n",
    "\n",
    "X_train, X_test, y_train, y_test = train_test_split(X_all, y_all, test_size=0.25, random_state=0)"
   ]
  },
  {
   "cell_type": "code",
   "execution_count": 3,
   "metadata": {
    "collapsed": false
   },
   "outputs": [
    {
     "name": "stdout",
     "output_type": "stream",
     "text": [
      "algorithm: KMeans\n",
      "  v-measure:    0.52\n",
      "  homogeneity:  0.50\n",
      "  completeness: 0.54\n",
      "\n",
      "algorithm: MiniBatchKMeans\n",
      "  v-measure:    0.41\n",
      "  homogeneity:  0.38\n",
      "  completeness: 0.44\n",
      "\n"
     ]
    }
   ],
   "source": [
    "from sklearn.metrics.cluster import v_measure_score, homogeneity_score, completeness_score\n",
    "from sklearn.cluster import MiniBatchKMeans, AgglomerativeClustering, DBSCAN, KMeans, Birch, MeanShift\n",
    "\n",
    "algos = [\n",
    "    KMeans(n_init=10, n_clusters=20),\n",
    "    MiniBatchKMeans(n_init=10, n_clusters=20),\n",
    "    #Birch(n_clusters=20),\n",
    "    #MeanShift()\n",
    "    #AgglomerativeClustering(n_clusters=20),\n",
    "    #DBSCAN()\n",
    "]\n",
    "\n",
    "while algos:\n",
    "    algo = algos.pop(0)\n",
    "    y_predict = algo.fit_predict(X_train)\n",
    "    print(\"algorithm: %s\" % algo.__class__.__name__)\n",
    "    print(\"  v-measure:    %0.2f\" % v_measure_score(y_train, y_predict))\n",
    "    print(\"  homogeneity:  %0.2f\" % homogeneity_score(y_train, y_predict))\n",
    "    print(\"  completeness: %0.2f\" % completeness_score(y_train, y_predict))\n",
    "    print(\"\")\n",
    "    del algo"
   ]
  },
  {
   "cell_type": "code",
   "execution_count": 4,
   "metadata": {
    "collapsed": false
   },
   "outputs": [
    {
     "name": "stdout",
     "output_type": "stream",
     "text": [
      "                          precision    recall  f1-score   support\n",
      "\n",
      "             alt.atheism       0.84      0.85      0.84       205\n",
      "           comp.graphics       0.71      0.72      0.71       245\n",
      " comp.os.ms-windows.misc       0.74      0.76      0.75       250\n",
      "comp.sys.ibm.pc.hardware       0.71      0.66      0.68       243\n",
      "   comp.sys.mac.hardware       0.81      0.76      0.78       255\n",
      "          comp.windows.x       0.85      0.84      0.84       240\n",
      "            misc.forsale       0.83      0.88      0.85       249\n",
      "               rec.autos       0.84      0.86      0.85       219\n",
      "         rec.motorcycles       0.92      0.93      0.92       246\n",
      "      rec.sport.baseball       0.92      0.94      0.93       227\n",
      "        rec.sport.hockey       0.95      0.98      0.97       287\n",
      "               sci.crypt       0.94      0.93      0.93       234\n",
      "         sci.electronics       0.78      0.75      0.77       247\n",
      "                 sci.med       0.90      0.89      0.89       250\n",
      "               sci.space       0.85      0.94      0.89       240\n",
      "  soc.religion.christian       0.89      0.91      0.90       250\n",
      "      talk.politics.guns       0.86      0.89      0.88       211\n",
      "   talk.politics.mideast       0.96      0.98      0.97       246\n",
      "      talk.politics.misc       0.87      0.79      0.83       209\n",
      "      talk.religion.misc       0.77      0.65      0.71       159\n",
      "\n",
      "             avg / total       0.85      0.85      0.85      4712\n",
      "\n"
     ]
    }
   ],
   "source": [
    "from sklearn.svm import LinearSVC\n",
    "from sklearn.multiclass import OneVsRestClassifier\n",
    "from sklearn.metrics import classification_report\n",
    "y_pred = OneVsRestClassifier(LinearSVC(random_state=0)).fit(X_train, y_train).predict(X_test)\n",
    "print(classification_report(y_test, y_pred, target_names=corpus.target_names))"
   ]
  },
  {
   "cell_type": "code",
   "execution_count": 5,
   "metadata": {
    "collapsed": false
   },
   "outputs": [
    {
     "name": "stdout",
     "output_type": "stream",
     "text": [
      "                          precision    recall  f1-score   support\n",
      "\n",
      "             alt.atheism       0.84      0.85      0.85       205\n",
      "           comp.graphics       0.72      0.71      0.72       245\n",
      " comp.os.ms-windows.misc       0.62      0.85      0.72       250\n",
      "comp.sys.ibm.pc.hardware       0.87      0.42      0.57       243\n",
      "   comp.sys.mac.hardware       0.65      0.84      0.73       255\n",
      "          comp.windows.x       0.85      0.80      0.83       240\n",
      "            misc.forsale       0.86      0.87      0.86       249\n",
      "               rec.autos       0.89      0.83      0.86       219\n",
      "         rec.motorcycles       0.89      0.93      0.91       246\n",
      "      rec.sport.baseball       0.91      0.96      0.94       227\n",
      "        rec.sport.hockey       0.97      0.98      0.97       287\n",
      "               sci.crypt       0.89      0.94      0.92       234\n",
      "         sci.electronics       0.82      0.69      0.75       247\n",
      "                 sci.med       0.93      0.89      0.91       250\n",
      "               sci.space       0.87      0.93      0.90       240\n",
      "  soc.religion.christian       0.86      0.89      0.88       250\n",
      "      talk.politics.guns       0.84      0.90      0.87       211\n",
      "   talk.politics.mideast       0.97      0.97      0.97       246\n",
      "      talk.politics.misc       0.82      0.78      0.80       209\n",
      "      talk.religion.misc       0.76      0.59      0.67       159\n",
      "\n",
      "             avg / total       0.84      0.84      0.83      4712\n",
      "\n"
     ]
    }
   ],
   "source": [
    "from sklearn.linear_model import SGDClassifier \n",
    "from sklearn.multiclass import OneVsRestClassifier\n",
    "from sklearn.metrics import classification_report\n",
    "y_pred = OneVsRestClassifier(SGDClassifier(loss=\"hinge\", random_state=0)).fit(X_train, y_train).predict(X_test)\n",
    "print(classification_report(y_test, y_pred, target_names=corpus.target_names))"
   ]
  },
  {
   "cell_type": "code",
   "execution_count": null,
   "metadata": {
    "collapsed": true
   },
   "outputs": [],
   "source": []
  }
 ],
 "metadata": {
  "kernelspec": {
   "display_name": "Python 2",
   "language": "python",
   "name": "python2"
  },
  "language_info": {
   "codemirror_mode": {
    "name": "ipython",
    "version": 2
   },
   "file_extension": ".py",
   "mimetype": "text/x-python",
   "name": "python",
   "nbconvert_exporter": "python",
   "pygments_lexer": "ipython2",
   "version": "2.7.6"
  }
 },
 "nbformat": 4,
 "nbformat_minor": 0
}
