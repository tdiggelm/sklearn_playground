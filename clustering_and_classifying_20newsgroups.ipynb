{
 "cells": [
  {
   "cell_type": "code",
   "execution_count": 2,
   "metadata": {
    "collapsed": true
   },
   "outputs": [],
   "source": [
    "%matplotlib inline\n",
    "import numpy as np\n",
    "from matplotlib.pyplot import *\n",
    "from sklearn.datasets import fetch_20newsgroups\n",
    "from sklearn.feature_extraction.text import TfidfVectorizer\n",
    "from sklearn.decomposition import TruncatedSVD\n",
    "from sklearn.preprocessing import Normalizer, StandardScaler, MinMaxScaler\n",
    "from sklearn.pipeline import make_pipeline"
   ]
  },
  {
   "cell_type": "code",
   "execution_count": 3,
   "metadata": {
    "collapsed": false
   },
   "outputs": [],
   "source": [
    "n_samples = None\n",
    "max_features = 10000\n",
    "n_components = 32\n",
    "\n",
    "corpus = fetch_20newsgroups(subset=\"train\")\n",
    "pipeline = make_pipeline(\n",
    "    TfidfVectorizer(max_features=max_features, norm=None),\n",
    "    Normalizer(),\n",
    "    StandardScaler(copy=False, with_mean=False),\n",
    "    Normalizer(),\n",
    "    TruncatedSVD(n_components=n_components),\n",
    "    Normalizer()\n",
    ")\n",
    "X_test = pipeline.fit_transform(corpus.data[:n_samples])\n",
    "y_test = np.array(corpus.target[:n_samples])\n",
    "# scatter(X_test[:,0], X_test[:,1])"
   ]
  },
  {
   "cell_type": "code",
   "execution_count": 4,
   "metadata": {
    "collapsed": false
   },
   "outputs": [
    {
     "name": "stdout",
     "output_type": "stream",
     "text": [
      "algorithm: KMeans\n",
      "  v-measure:    0.56\n",
      "  homogeneity:  0.55\n",
      "  completeness: 0.58\n",
      "\n",
      "algorithm: MiniBatchKMeans\n",
      "  v-measure:    0.55\n",
      "  homogeneity:  0.54\n",
      "  completeness: 0.57\n",
      "\n",
      "algorithm: Birch\n",
      "  v-measure:    0.47\n",
      "  homogeneity:  0.44\n",
      "  completeness: 0.51\n",
      "\n"
     ]
    }
   ],
   "source": [
    "from sklearn.metrics.cluster import v_measure_score, homogeneity_score, completeness_score\n",
    "from sklearn.cluster import MiniBatchKMeans, AgglomerativeClustering, DBSCAN, KMeans, Birch, MeanShift\n",
    "\n",
    "algos = [\n",
    "    KMeans(n_init=10, n_clusters=20),\n",
    "    MiniBatchKMeans(n_init=10, n_clusters=20),\n",
    "    Birch(n_clusters=20),\n",
    "    #MeanShift()\n",
    "    #AgglomerativeClustering(n_clusters=20),\n",
    "    #DBSCAN()\n",
    "]\n",
    "\n",
    "while algos:\n",
    "    algo = algos.pop(0)\n",
    "    y_predict = algo.fit_predict(X_test)\n",
    "    print(\"algorithm: %s\" % algo.__class__.__name__)\n",
    "    print(\"  v-measure:    %0.2f\" % v_measure_score(y_test, y_predict))\n",
    "    print(\"  homogeneity:  %0.2f\" % homogeneity_score(y_test, y_predict))\n",
    "    print(\"  completeness: %0.2f\" % completeness_score(y_test, y_predict))\n",
    "    print(\"\")\n",
    "    del algo"
   ]
  },
  {
   "cell_type": "code",
   "execution_count": null,
   "metadata": {
    "collapsed": true
   },
   "outputs": [],
   "source": []
  }
 ],
 "metadata": {
  "kernelspec": {
   "display_name": "Python 2",
   "language": "python",
   "name": "python2"
  },
  "language_info": {
   "codemirror_mode": {
    "name": "ipython",
    "version": 2
   },
   "file_extension": ".py",
   "mimetype": "text/x-python",
   "name": "python",
   "nbconvert_exporter": "python",
   "pygments_lexer": "ipython2",
   "version": "2.7.6"
  }
 },
 "nbformat": 4,
 "nbformat_minor": 0
}
